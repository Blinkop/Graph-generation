{
 "cells": [
  {
   "cell_type": "code",
   "execution_count": 1,
   "metadata": {},
   "outputs": [],
   "source": [
    "import torch\n",
    "import numpy as np\n",
    "\n",
    "import torch_geometric.transforms as T\n",
    "from torch_geometric.loader import DataLoader\n",
    "\n",
    "from sklearn.metrics import roc_auc_score, average_precision_score\n",
    "\n",
    "%matplotlib inline\n",
    "import matplotlib.pyplot as plt\n",
    "import seaborn as sns\n",
    "\n",
    "from latent.utils import draw_samples_2d\n",
    "from latent.transforms import RandomFeatureMatrix, EdgeLabelCreator, FullEdgeLabelCreator, OneHotFeatureMatrix\n",
    "from latent.models import VGAE, Encoder\n",
    "from latent.models import InnerProductDecoder, InnerProductDecoderBasis, MLPDecoder, MLPInnerProductDecoder\n",
    "\n",
    "from latent.datasets import GNFCommunitySmall, GNFEgoSmall"
   ]
  },
  {
   "cell_type": "code",
   "execution_count": 3,
   "metadata": {},
   "outputs": [],
   "source": [
    "transform = T.Compose([\n",
    "    RandomFeatureMatrix(feature_dim=1024, mean=0.0, std=0.3),\n",
    "    # OneHotFeatureMatrix(max_num_nodes=20),\n",
    "    FullEdgeLabelCreator(),\n",
    "    # EdgeLabelCreator(is_undirected=True),\n",
    "    T.ToDevice('cuda')\n",
    "])\n",
    "\n",
    "dataset = GNFCommunitySmall('data/GNFCommSmall', transform=transform)\n",
    "train_data = DataLoader(dataset[:90], batch_size=10, shuffle=True)\n",
    "val_data = DataLoader(dataset[90:], batch_size=1, shuffle=True)"
   ]
  },
  {
   "cell_type": "code",
   "execution_count": null,
   "metadata": {},
   "outputs": [],
   "source": []
  },
  {
   "cell_type": "code",
   "execution_count": 4,
   "metadata": {},
   "outputs": [
    {
     "name": "stderr",
     "output_type": "stream",
     "text": [
      "/data/home/anthony/.conda/envs/pyg/lib/python3.9/site-packages/torch/functional.py:445: UserWarning: torch.meshgrid: in an upcoming release, it will be required to pass the indexing argument. (Triggered internally at  /opt/conda/conda-bld/pytorch_1634272204863/work/aten/src/ATen/native/TensorShape.cpp:2157.)\n",
      "  return _VF.meshgrid(tensors, **kwargs)  # type: ignore[attr-defined]\n"
     ]
    },
    {
     "data": {
      "text/plain": [
       "VGAE(\n",
       "  (encoder): Encoder(\n",
       "    (convs): ModuleList(\n",
       "      (0): GCNConv(1024, 32)\n",
       "    )\n",
       "    (conv_mu): GCNConv(32, 16)\n",
       "    (conv_logstd): GCNConv(32, 16)\n",
       "  )\n",
       "  (decoder): MLPInnerProductDecoder(\n",
       "    (mlp): Sequential(\n",
       "      (0): Linear(in_features=16, out_features=16, bias=True)\n",
       "      (1): SiLU(inplace=True)\n",
       "      (2): Linear(in_features=16, out_features=16, bias=True)\n",
       "    )\n",
       "  )\n",
       "  (bce_loss): BCELoss()\n",
       ")"
      ]
     },
     "execution_count": 4,
     "metadata": {},
     "output_type": "execute_result"
    }
   ],
   "source": [
    "num_features = dataset[0].num_features\n",
    "HIDDEN_CHANNELS = 32\n",
    "OUT_CHANNELS = 16\n",
    "\n",
    "device = torch.device('cuda')\n",
    "encoder = Encoder(\n",
    "    in_channels=num_features,\n",
    "    hidden_channels=HIDDEN_CHANNELS,\n",
    "    out_channels=OUT_CHANNELS,\n",
    "    num_layers=2\n",
    ")\n",
    "# decoder = InnerProductDecoder()\n",
    "# decoder = InnerProductDecoderBasis(hidden_channels=512)\n",
    "# decoder = MLPDecoder(hidden_channels=512)\n",
    "decoder = MLPInnerProductDecoder(hidden_channels=OUT_CHANNELS)\n",
    "\n",
    "vgae = VGAE(\n",
    "    encoder=encoder,\n",
    "    decoder=decoder,\n",
    "    lambda1=8.0,\n",
    "    lambda2=0.0\n",
    ")\n",
    "vgae = vgae.to(device)\n",
    "optimizer = torch.optim.Adam(vgae.parameters(), lr=0.01)\n",
    "\n",
    "vgae"
   ]
  },
  {
   "cell_type": "code",
   "execution_count": null,
   "metadata": {},
   "outputs": [],
   "source": []
  },
  {
   "cell_type": "code",
   "execution_count": 5,
   "metadata": {},
   "outputs": [],
   "source": [
    "def train(model, train_data):\n",
    "    model.train()\n",
    "\n",
    "    loss = 0.0\n",
    "\n",
    "    recon_total = 0.0\n",
    "    dkl_total = 0.0\n",
    "\n",
    "    optimizer.zero_grad()\n",
    "\n",
    "    for data in train_data:\n",
    "        z, mu, logstd = model.encode(data.x, data.edge_index)\n",
    "        y_pred = model.decode(z, data.edge_label_index)\n",
    "    \n",
    "        recon_loss = model.recon_loss(y_pred, data.edge_label)\n",
    "        dkl_loss = model.dkl_loss(mu, logstd)\n",
    "        loss += recon_loss + dkl_loss\n",
    "\n",
    "        recon_total += float(recon_loss)\n",
    "        dkl_total += float(dkl_loss)\n",
    "\n",
    "    recon_total /= len(train_data)\n",
    "    dkl_total /= len(train_data)\n",
    "    loss_total = recon_total + dkl_total\n",
    "\n",
    "\n",
    "    loss.backward()\n",
    "    optimizer.step()\n",
    "\n",
    "    return loss_total, recon_total, dkl_total\n",
    "\n",
    "@torch.no_grad()\n",
    "def test(model, val_data):\n",
    "    model.eval()\n",
    "\n",
    "    roc_auc = 0.0\n",
    "    ap = 0.0\n",
    "    for data in val_data:\n",
    "        z, _, _ = model.encode(data.x, data.edge_index)\n",
    "        y_pred = model.decode(z, data.edge_label_index)\n",
    "    \n",
    "        y_true, y_pred = data.edge_label.cpu().numpy(), y_pred.cpu().numpy()\n",
    "\n",
    "        roc_auc += roc_auc_score(y_true, y_pred)\n",
    "        ap += average_precision_score(y_true, y_pred)\n",
    "\n",
    "\n",
    "    return roc_auc / len(val_data), ap / len(val_data)"
   ]
  },
  {
   "cell_type": "code",
   "execution_count": 6,
   "metadata": {},
   "outputs": [
    {
     "name": "stdout",
     "output_type": "stream",
     "text": [
      "Epoch 0000: train_loss: (1.5954; 1.5954; 0.0000); ROC_AUC: 0.5493; AP: 0.4362\n",
      "Epoch 0010: train_loss: (1.3969; 1.3969; 0.0000); ROC_AUC: 0.6829; AP: 0.5109\n",
      "Epoch 0020: train_loss: (1.3897; 1.3897; 0.0000); ROC_AUC: 0.7895; AP: 0.5564\n",
      "Epoch 0030: train_loss: (1.3873; 1.3873; 0.0000); ROC_AUC: 0.7411; AP: 0.5283\n",
      "Epoch 0040: train_loss: (1.3868; 1.3868; 0.0000); ROC_AUC: 0.7578; AP: 0.5556\n",
      "Epoch 0050: train_loss: (1.3866; 1.3866; 0.0000); ROC_AUC: 0.8170; AP: 0.5667\n",
      "Epoch 0060: train_loss: (1.3865; 1.3865; 0.0000); ROC_AUC: 0.7806; AP: 0.5368\n",
      "Epoch 0070: train_loss: (1.3865; 1.3865; 0.0000); ROC_AUC: 0.7662; AP: 0.5562\n",
      "Epoch 0080: train_loss: (1.3864; 1.3864; 0.0000); ROC_AUC: 0.7772; AP: 0.5437\n",
      "Epoch 0090: train_loss: (1.3864; 1.3864; 0.0000); ROC_AUC: 0.8181; AP: 0.5796\n",
      "Epoch 0100: train_loss: (1.3864; 1.3864; 0.0000); ROC_AUC: 0.7416; AP: 0.5193\n",
      "Epoch 0110: train_loss: (1.3863; 1.3863; 0.0000); ROC_AUC: 0.7682; AP: 0.5566\n",
      "Epoch 0120: train_loss: (1.3862; 1.3862; 0.0000); ROC_AUC: 0.7611; AP: 0.5406\n",
      "Epoch 0130: train_loss: (1.3862; 1.3862; 0.0000); ROC_AUC: 0.6807; AP: 0.4934\n",
      "Epoch 0140: train_loss: (1.3864; 1.3864; 0.0000); ROC_AUC: 0.7607; AP: 0.5420\n",
      "Epoch 0150: train_loss: (1.3863; 1.3863; 0.0000); ROC_AUC: 0.7902; AP: 0.5734\n",
      "Epoch 0160: train_loss: (1.3855; 1.3855; 0.0000); ROC_AUC: 0.7143; AP: 0.5343\n",
      "Epoch 0170: train_loss: (1.3880; 1.3880; 0.0000); ROC_AUC: 0.7266; AP: 0.5053\n",
      "Epoch 0180: train_loss: (1.3845; 1.3845; 0.0000); ROC_AUC: 0.7466; AP: 0.5317\n",
      "Epoch 0190: train_loss: (1.3818; 1.3818; 0.0000); ROC_AUC: 0.6822; AP: 0.5025\n",
      "Epoch 0200: train_loss: (1.3863; 1.3863; 0.0000); ROC_AUC: 0.7697; AP: 0.5385\n",
      "Epoch 0210: train_loss: (1.3854; 1.3854; 0.0000); ROC_AUC: 0.7922; AP: 0.5673\n",
      "Epoch 0220: train_loss: (1.3833; 1.3833; 0.0000); ROC_AUC: 0.7772; AP: 0.5487\n",
      "Epoch 0230: train_loss: (1.3813; 1.3813; 0.0000); ROC_AUC: 0.7566; AP: 0.5302\n",
      "Epoch 0240: train_loss: (1.3884; 1.3884; 0.0000); ROC_AUC: 0.7532; AP: 0.5605\n",
      "Epoch 0250: train_loss: (1.3830; 1.3830; 0.0000); ROC_AUC: 0.8064; AP: 0.5832\n",
      "Epoch 0260: train_loss: (1.3824; 1.3824; 0.0000); ROC_AUC: 0.7516; AP: 0.5654\n",
      "Epoch 0270: train_loss: (1.3908; 1.3908; 0.0000); ROC_AUC: 0.7384; AP: 0.5522\n",
      "Epoch 0280: train_loss: (1.3799; 1.3799; 0.0000); ROC_AUC: 0.7278; AP: 0.5106\n",
      "Epoch 0290: train_loss: (1.3850; 1.3850; 0.0000); ROC_AUC: 0.7990; AP: 0.5789\n",
      "Epoch 0300: train_loss: (1.3841; 1.3841; 0.0000); ROC_AUC: 0.8100; AP: 0.5858\n",
      "Epoch 0310: train_loss: (1.3858; 1.3858; 0.0000); ROC_AUC: 0.7511; AP: 0.5489\n",
      "Epoch 0320: train_loss: (1.3861; 1.3861; 0.0000); ROC_AUC: 0.7550; AP: 0.5603\n",
      "Epoch 0330: train_loss: (1.3819; 1.3819; 0.0000); ROC_AUC: 0.7383; AP: 0.5314\n",
      "Epoch 0340: train_loss: (1.3835; 1.3835; 0.0000); ROC_AUC: 0.7640; AP: 0.5631\n",
      "Epoch 0350: train_loss: (1.3815; 1.3815; 0.0000); ROC_AUC: 0.8473; AP: 0.6215\n",
      "Epoch 0360: train_loss: (1.3868; 1.3868; 0.0000); ROC_AUC: 0.7794; AP: 0.5764\n",
      "Epoch 0370: train_loss: (1.3924; 1.3924; 0.0000); ROC_AUC: 0.7980; AP: 0.5813\n",
      "Epoch 0380: train_loss: (1.3795; 1.3795; 0.0000); ROC_AUC: 0.7506; AP: 0.5503\n",
      "Epoch 0390: train_loss: (1.3824; 1.3824; 0.0000); ROC_AUC: 0.7720; AP: 0.5707\n",
      "Epoch 0400: train_loss: (1.3839; 1.3839; 0.0000); ROC_AUC: 0.8150; AP: 0.5976\n",
      "Epoch 0410: train_loss: (1.3865; 1.3865; 0.0000); ROC_AUC: 0.7918; AP: 0.5873\n",
      "Epoch 0420: train_loss: (1.3902; 1.3902; 0.0000); ROC_AUC: 0.7790; AP: 0.5570\n",
      "Epoch 0430: train_loss: (1.3806; 1.3806; 0.0000); ROC_AUC: 0.7728; AP: 0.5773\n",
      "Epoch 0440: train_loss: (1.3838; 1.3838; 0.0000); ROC_AUC: 0.8073; AP: 0.5863\n",
      "Epoch 0450: train_loss: (1.3882; 1.3882; 0.0000); ROC_AUC: 0.7283; AP: 0.5344\n",
      "Epoch 0460: train_loss: (1.3828; 1.3828; 0.0000); ROC_AUC: 0.7817; AP: 0.5729\n",
      "Epoch 0470: train_loss: (1.3810; 1.3810; 0.0000); ROC_AUC: 0.7574; AP: 0.5534\n",
      "Epoch 0480: train_loss: (1.3833; 1.3833; 0.0000); ROC_AUC: 0.7513; AP: 0.5794\n",
      "Epoch 0490: train_loss: (1.3895; 1.3895; 0.0000); ROC_AUC: 0.7498; AP: 0.5574\n",
      "Epoch 0500: train_loss: (1.3814; 1.3814; 0.0000); ROC_AUC: 0.7256; AP: 0.5390\n",
      "Epoch 0510: train_loss: (1.3834; 1.3834; 0.0000); ROC_AUC: 0.7695; AP: 0.5534\n",
      "Epoch 0520: train_loss: (1.3807; 1.3807; 0.0000); ROC_AUC: 0.8040; AP: 0.5959\n",
      "Epoch 0530: train_loss: (1.3828; 1.3828; 0.0000); ROC_AUC: 0.8198; AP: 0.6132\n",
      "Epoch 0540: train_loss: (1.3823; 1.3823; 0.0000); ROC_AUC: 0.7777; AP: 0.5701\n",
      "Epoch 0550: train_loss: (1.3933; 1.3933; 0.0000); ROC_AUC: 0.8342; AP: 0.6129\n",
      "Epoch 0560: train_loss: (1.3845; 1.3845; 0.0000); ROC_AUC: 0.7927; AP: 0.5775\n",
      "Epoch 0570: train_loss: (1.3825; 1.3825; 0.0000); ROC_AUC: 0.8322; AP: 0.6037\n",
      "Epoch 0580: train_loss: (1.3847; 1.3847; 0.0000); ROC_AUC: 0.7657; AP: 0.5521\n",
      "Epoch 0590: train_loss: (1.3801; 1.3801; 0.0000); ROC_AUC: 0.7888; AP: 0.5619\n",
      "Epoch 0600: train_loss: (1.3822; 1.3822; 0.0000); ROC_AUC: 0.8097; AP: 0.6066\n",
      "Epoch 0610: train_loss: (1.3801; 1.3801; 0.0000); ROC_AUC: 0.7722; AP: 0.5564\n",
      "Epoch 0620: train_loss: (1.3828; 1.3828; 0.0000); ROC_AUC: 0.7621; AP: 0.5574\n",
      "Epoch 0630: train_loss: (1.3888; 1.3888; 0.0000); ROC_AUC: 0.8046; AP: 0.5913\n",
      "Epoch 0640: train_loss: (1.3821; 1.3821; 0.0000); ROC_AUC: 0.8432; AP: 0.6140\n",
      "Epoch 0650: train_loss: (1.3858; 1.3858; 0.0000); ROC_AUC: 0.7737; AP: 0.5643\n",
      "Epoch 0660: train_loss: (1.3802; 1.3802; 0.0000); ROC_AUC: 0.7705; AP: 0.5651\n",
      "Epoch 0670: train_loss: (1.3838; 1.3838; 0.0000); ROC_AUC: 0.7847; AP: 0.5740\n",
      "Epoch 0680: train_loss: (1.3837; 1.3837; 0.0000); ROC_AUC: 0.8078; AP: 0.6102\n",
      "Epoch 0690: train_loss: (1.3847; 1.3847; 0.0000); ROC_AUC: 0.7281; AP: 0.5357\n",
      "Epoch 0700: train_loss: (1.3816; 1.3816; 0.0000); ROC_AUC: 0.8274; AP: 0.6037\n",
      "Epoch 0710: train_loss: (1.3859; 1.3859; 0.0000); ROC_AUC: 0.8199; AP: 0.6010\n",
      "Epoch 0720: train_loss: (1.3812; 1.3812; 0.0000); ROC_AUC: 0.8111; AP: 0.5895\n",
      "Epoch 0730: train_loss: (1.3841; 1.3841; 0.0000); ROC_AUC: 0.7644; AP: 0.5657\n",
      "Epoch 0740: train_loss: (1.3843; 1.3843; 0.0000); ROC_AUC: 0.7800; AP: 0.5621\n",
      "Epoch 0750: train_loss: (1.3825; 1.3825; 0.0000); ROC_AUC: 0.8017; AP: 0.5713\n",
      "Epoch 0760: train_loss: (1.3843; 1.3843; 0.0000); ROC_AUC: 0.8269; AP: 0.6015\n",
      "Epoch 0770: train_loss: (1.3942; 1.3942; 0.0000); ROC_AUC: 0.7996; AP: 0.5856\n",
      "Epoch 0780: train_loss: (1.3811; 1.3811; 0.0000); ROC_AUC: 0.7530; AP: 0.5472\n",
      "Epoch 0790: train_loss: (1.3849; 1.3849; 0.0000); ROC_AUC: 0.7527; AP: 0.5558\n",
      "Epoch 0800: train_loss: (1.3864; 1.3864; 0.0000); ROC_AUC: 0.7679; AP: 0.5568\n",
      "Epoch 0810: train_loss: (1.3818; 1.3818; 0.0000); ROC_AUC: 0.7333; AP: 0.5275\n",
      "Epoch 0820: train_loss: (1.3869; 1.3869; 0.0000); ROC_AUC: 0.7793; AP: 0.5724\n",
      "Epoch 0830: train_loss: (1.3899; 1.3899; 0.0000); ROC_AUC: 0.7178; AP: 0.5625\n",
      "Epoch 0840: train_loss: (1.3866; 1.3866; 0.0000); ROC_AUC: 0.7810; AP: 0.5701\n",
      "Epoch 0850: train_loss: (1.3825; 1.3825; 0.0000); ROC_AUC: 0.7733; AP: 0.5640\n",
      "Epoch 0860: train_loss: (1.3800; 1.3800; 0.0000); ROC_AUC: 0.8231; AP: 0.6047\n",
      "Epoch 0870: train_loss: (1.3839; 1.3839; 0.0000); ROC_AUC: 0.7653; AP: 0.5647\n",
      "Epoch 0880: train_loss: (1.3809; 1.3809; 0.0000); ROC_AUC: 0.8106; AP: 0.5984\n",
      "Epoch 0890: train_loss: (1.3789; 1.3789; 0.0000); ROC_AUC: 0.7783; AP: 0.5624\n",
      "Epoch 0900: train_loss: (1.3798; 1.3798; 0.0000); ROC_AUC: 0.7421; AP: 0.5423\n",
      "Epoch 0910: train_loss: (1.3787; 1.3787; 0.0000); ROC_AUC: 0.7419; AP: 0.5534\n",
      "Epoch 0920: train_loss: (1.3821; 1.3821; 0.0000); ROC_AUC: 0.8195; AP: 0.5929\n",
      "Epoch 0930: train_loss: (1.3826; 1.3826; 0.0000); ROC_AUC: 0.7551; AP: 0.5588\n",
      "Epoch 0940: train_loss: (1.3826; 1.3826; 0.0000); ROC_AUC: 0.8028; AP: 0.5924\n",
      "Epoch 0950: train_loss: (1.3785; 1.3785; 0.0000); ROC_AUC: 0.7904; AP: 0.5504\n",
      "Epoch 0960: train_loss: (1.3798; 1.3798; 0.0000); ROC_AUC: 0.7970; AP: 0.5889\n",
      "Epoch 0970: train_loss: (1.3823; 1.3823; 0.0000); ROC_AUC: 0.8024; AP: 0.5993\n",
      "Epoch 0980: train_loss: (1.3862; 1.3862; 0.0000); ROC_AUC: 0.8317; AP: 0.6170\n",
      "Epoch 0990: train_loss: (1.3869; 1.3869; 0.0000); ROC_AUC: 0.8132; AP: 0.6054\n"
     ]
    }
   ],
   "source": [
    "num_epochs = 1000\n",
    "\n",
    "for epoch in range(num_epochs):\n",
    "    train_loss = train(vgae, train_data)\n",
    "    roc_auc, ap = test(vgae, val_data)\n",
    "\n",
    "    if epoch % 10 == 0:\n",
    "        print('Epoch {:04d}: train_loss: ({:.4f}; {:.4f}; {:.4f}); ROC_AUC: {:.4f}; AP: {:.4f}'\n",
    "                .format(epoch, *train_loss, roc_auc, ap))"
   ]
  },
  {
   "cell_type": "code",
   "execution_count": 7,
   "metadata": {},
   "outputs": [
    {
     "data": {
      "text/plain": [
       "<AxesSubplot:>"
      ]
     },
     "execution_count": 7,
     "metadata": {},
     "output_type": "execute_result"
    },
    {
     "data": {
      "image/png": "[encoded data removed]",
      "text/plain": [
       "<Figure size 1152x648 with 1 Axes>"
      ]
     },
     "metadata": {
      "needs_background": "light"
     },
     "output_type": "display_data"
    }
   ],
   "source": [
    "plt.figure(figsize=(16, 9))\n",
    "\n",
    "Z = torch.tensor([]).cuda()\n",
    "labels = np.array([])\n",
    "for i, data in enumerate(val_data):\n",
    "    with torch.no_grad():\n",
    "        z, _, _ = vgae.encode(data.x, data.edge_index)\n",
    "        Z = torch.cat([Z, z], dim=0)\n",
    "        labels = np.concatenate([labels, np.ones(data.num_nodes) * i])\n",
    "Z = Z.cpu().numpy()\n",
    "labels = labels.astype('int')\n",
    "\n",
    "sns.set_style('whitegrid')\n",
    "sns.scatterplot(x=Z[:, 0], y=Z[:, 1], hue=labels, palette='deep', s=50)"
   ]
  },
  {
   "cell_type": "code",
   "execution_count": 11,
   "metadata": {},
   "outputs": [
    {
     "name": "stdout",
     "output_type": "stream",
     "text": [
      "Generated 0's: 22\n",
      "Generated 1's: 267\n",
      "True 1's: 90\n"
     ]
    },
    {
     "data": {
      "image/png": "[encoded data removed]",
      "text/plain": [
       "<Figure size 1152x648 with 1 Axes>"
      ]
     },
     "metadata": {},
     "output_type": "display_data"
    }
   ],
   "source": [
    "data = dataset[2]\n",
    "\n",
    "with torch.no_grad():\n",
    "    z, _, _ = vgae.encode(data.x, data.edge_index)\n",
    "    adj = vgae.decoder.forward_all(z, sigmoid=False)\n",
    "    adj = adj.cpu().numpy()\n",
    "\n",
    "print(\"Generated 0's:\", (adj <= 0.0).sum())\n",
    "print(\"Generated 1's:\", (adj > 0.0).sum())\n",
    "print(\"True 1's:\", int(data.edge_index.shape[1]))\n",
    "\n",
    "plt.figure(figsize=(16, 9))\n",
    "perc1 = np.percentile(adj, 5)\n",
    "perc2 = np.percentile(adj, 95)\n",
    "\n",
    "mask = (adj.ravel() > perc1) & (adj.ravel() < perc2)\n",
    "\n",
    "_ = plt.hist(adj.ravel()[mask], bins=8)"
   ]
  },
  {
   "cell_type": "code",
   "execution_count": null,
   "metadata": {},
   "outputs": [],
   "source": []
  },
  {
   "cell_type": "code",
   "execution_count": null,
   "metadata": {},
   "outputs": [],
   "source": []
  }
 ],
 "metadata": {
  "interpreter": {
   "hash": "64d334ad6566da86c7d2322e0ad78cf5bb32f032a1adc8a79a0a16fb63b9065c"
  },
  "kernelspec": {
   "display_name": "Python [conda env:.conda-pyg]",
   "language": "python",
   "name": "python3"
  },
  "language_info": {
   "codemirror_mode": {
    "name": "ipython",
    "version": 3
   },
   "file_extension": ".py",
   "mimetype": "text/x-python",
   "name": "python",
   "nbconvert_exporter": "python",
   "pygments_lexer": "ipython3",
   "version": "3.9.7"
  }
 },
 "nbformat": 4,
 "nbformat_minor": 2
}
